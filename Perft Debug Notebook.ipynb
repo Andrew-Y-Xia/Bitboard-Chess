{
 "cells": [
  {
   "cell_type": "code",
   "execution_count": 1,
   "metadata": {},
   "outputs": [],
   "source": [
    "from collections import defaultdict"
   ]
  },
  {
   "cell_type": "code",
   "execution_count": 2,
   "metadata": {},
   "outputs": [],
   "source": [
    "def i():\n",
    "    return '0'"
   ]
  },
  {
   "cell_type": "code",
   "execution_count": 51,
   "metadata": {},
   "outputs": [],
   "source": [
    "cmp1 = \"\"\"e6e5: 1\n",
    "a7a6: 1\n",
    "b7b6: 1\n",
    "c7c6: 1\n",
    "g7g6: 1\n",
    "h7h6: 1\n",
    "a7a5: 1\n",
    "b7b5: 1\n",
    "g7g5: 1\n",
    "h7h5: 1\n",
    "f6e4: 1\n",
    "f6g4: 1\n",
    "f6d5: 1\n",
    "f6h5: 1\n",
    "f6d7: 1\n",
    "f6g8: 1\n",
    "b8a6: 1\n",
    "b8c6: 1\n",
    "b8d7: 1\n",
    "c5g1: 1\n",
    "c5f2: 1\n",
    "c5a3: 1\n",
    "c5e3: 1\n",
    "c5b4: 1\n",
    "c5d4: 1\n",
    "c5b6: 1\n",
    "c5d6: 1\n",
    "c5e7: 1\n",
    "c5f8: 1\n",
    "c8d7: 1\n",
    "h8g8: 1\n",
    "d8d2: 1\n",
    "d8d3: 1\n",
    "d8d4: 1\n",
    "d8d5: 1\n",
    "d8d6: 1\n",
    "d8d7: 1\n",
    "d8e7: 1\n",
    "e8d7: 1\n",
    "e8e7: 1\n",
    "e8f8: 1\"\"\"\n",
    "\n",
    "cmp2 = \"\"\"e8d7: 1\n",
    "e8e7: 1\n",
    "e8f8: 1\n",
    "e6e5: 1\n",
    "a7a6: 1\n",
    "b7b6: 1\n",
    "c7c6: 1\n",
    "g7g6: 1\n",
    "h7h6: 1\n",
    "a7a5: 1\n",
    "b7b5: 1\n",
    "g7g5: 1\n",
    "h7h5: 1\n",
    "f6e4: 1\n",
    "f6g4: 1\n",
    "f6d5: 1\n",
    "f6h5: 1\n",
    "f6d7: 1\n",
    "f6g8: 1\n",
    "b8a6: 1\n",
    "b8c6: 1\n",
    "b8d7: 1\n",
    "c5g1: 1\n",
    "c5f2: 1\n",
    "c5a3: 1\n",
    "c5e3: 1\n",
    "c5b4: 1\n",
    "c5d4: 1\n",
    "c5b6: 1\n",
    "c5d6: 1\n",
    "c5e7: 1\n",
    "c5f8: 1\n",
    "c8d7: 1\n",
    "h8g8: 1\n",
    "d8d2: 1\n",
    "d8d3: 1\n",
    "d8d4: 1\n",
    "d8d5: 1\n",
    "d8d6: 1\n",
    "d8d7: 1\n",
    "d8e7: 1\"\"\""
   ]
  },
  {
   "cell_type": "code",
   "execution_count": 52,
   "metadata": {},
   "outputs": [],
   "source": [
    "dict1 = defaultdict(i, (x.split(' ') for x in cmp1.split('\\n')))\n",
    "dict2 = defaultdict(i, (x.split(' ') for x in cmp2.split('\\n')))"
   ]
  },
  {
   "cell_type": "code",
   "execution_count": 53,
   "metadata": {},
   "outputs": [],
   "source": [
    "for key, value in dict1.items():\n",
    "    if dict2[key] != value:\n",
    "        print(\"Diff: \" + key + ' ' + value + \" | \" + key + ' ' + dict2[key])"
   ]
  },
  {
   "cell_type": "code",
   "execution_count": 54,
   "metadata": {},
   "outputs": [],
   "source": [
    "for key, value in dict2.items():\n",
    "    if dict1[key] != value:\n",
    "        print(\"Diff: \" + key + ' ' + value + \" | \" + key + ' ' + dict1[key])"
   ]
  },
  {
   "cell_type": "code",
   "execution_count": null,
   "metadata": {},
   "outputs": [],
   "source": []
  }
 ],
 "metadata": {
  "kernelspec": {
   "display_name": "Python 3",
   "language": "python",
   "name": "python3"
  },
  "language_info": {
   "codemirror_mode": {
    "name": "ipython",
    "version": 3
   },
   "file_extension": ".py",
   "mimetype": "text/x-python",
   "name": "python",
   "nbconvert_exporter": "python",
   "pygments_lexer": "ipython3",
   "version": "3.8.5"
  }
 },
 "nbformat": 4,
 "nbformat_minor": 4
}
