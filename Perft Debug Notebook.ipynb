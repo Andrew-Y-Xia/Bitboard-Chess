{
 "cells": [
  {
   "cell_type": "code",
   "execution_count": 1,
   "metadata": {},
   "outputs": [],
   "source": [
    "from collections import defaultdict"
   ]
  },
  {
   "cell_type": "code",
   "execution_count": 2,
   "metadata": {},
   "outputs": [],
   "source": [
    "def i():\n",
    "    return '0'"
   ]
  },
  {
   "cell_type": "code",
   "execution_count": 399,
   "metadata": {},
   "outputs": [],
   "source": [
    "cmp1 = \"\"\"c5c4: 49346340\n",
    "h7h1: 49937474\n",
    "h7h2: 37013781\n",
    "h7h3: 10534745\n",
    "h7h4: 40394181\n",
    "h7h5: 36443237\n",
    "h7h6: 51842829\n",
    "h7a7: 52373973\n",
    "h7b7: 45186128\n",
    "h7c7: 35876389\n",
    "h7d7: 30143356\n",
    "h7e7: 37040438\n",
    "h7f7: 37033941\n",
    "h7g7: 51357201\n",
    "h7h8: 41817715\n",
    "b3a2: 39626707\n",
    "b3b2: 51748882\n",
    "b3c2: 39092769\n",
    "b3a3: 41164157\n",
    "b3c3: 38803418\n",
    "b3a4: 41259203\n",
    "b3b4: 49478480\n",
    "b3c4: 34148772\"\"\"\n",
    "\n",
    "cmp2 = \"\"\"b3a2: 39626707\n",
    "b3b2: 51748882\n",
    "b3c2: 39092769\n",
    "b3a3: 41164157\n",
    "b3c3: 38803418\n",
    "b3a4: 41259203\n",
    "b3b4: 49478480\n",
    "b3c4: 34148772\n",
    "c5c4: 49346340\n",
    "h7h1: 49937474\n",
    "h7h2: 37013781\n",
    "h7h3: 10534745\n",
    "h7h4: 40394181\n",
    "h7h5: 36443237\n",
    "h7h6: 51842829\n",
    "h7a7: 52373973\n",
    "h7b7: 45186128\n",
    "h7c7: 35876389\n",
    "h7d7: 30143356\n",
    "h7e7: 37040438\n",
    "h7f7: 37033941\n",
    "h7g7: 51357201\n",
    "h7h8: 41817715\"\"\""
   ]
  },
  {
   "cell_type": "code",
   "execution_count": 400,
   "metadata": {},
   "outputs": [],
   "source": [
    "dict1 = defaultdict(i, (x.split(' ') for x in cmp1.split('\\n')))\n",
    "dict2 = defaultdict(i, (x.split(' ') for x in cmp2.split('\\n')))"
   ]
  },
  {
   "cell_type": "code",
   "execution_count": 401,
   "metadata": {},
   "outputs": [],
   "source": [
    "for key, value in dict1.items():\n",
    "    if dict2[key] != value:\n",
    "        print(\"Diff: \" + key + ' ' + value + \" | \" + key + ' ' + dict2[key])"
   ]
  },
  {
   "cell_type": "code",
   "execution_count": 402,
   "metadata": {},
   "outputs": [],
   "source": [
    "for key, value in dict2.items():\n",
    "    if dict1[key] != value:\n",
    "        print(\"Diff: \" + key + ' ' + value + \" | \" + key + ' ' + dict1[key])"
   ]
  },
  {
   "cell_type": "code",
   "execution_count": null,
   "metadata": {},
   "outputs": [],
   "source": []
  }
 ],
 "metadata": {
  "kernelspec": {
   "display_name": "Python 3",
   "language": "python",
   "name": "python3"
  },
  "language_info": {
   "codemirror_mode": {
    "name": "ipython",
    "version": 3
   },
   "file_extension": ".py",
   "mimetype": "text/x-python",
   "name": "python",
   "nbconvert_exporter": "python",
   "pygments_lexer": "ipython3",
   "version": "3.8.5"
  }
 },
 "nbformat": 4,
 "nbformat_minor": 4
}
