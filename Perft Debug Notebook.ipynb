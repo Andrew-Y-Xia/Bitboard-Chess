{
 "cells": [
  {
   "cell_type": "code",
   "execution_count": 1,
   "metadata": {},
   "outputs": [],
   "source": [
    "from collections import defaultdict"
   ]
  },
  {
   "cell_type": "code",
   "execution_count": 2,
   "metadata": {},
   "outputs": [],
   "source": [
    "def i():\n",
    "    return '0'"
   ]
  },
  {
   "cell_type": "code",
   "execution_count": 23,
   "metadata": {},
   "outputs": [],
   "source": [
    "cmp1 = \"\"\"f4f3: 1\n",
    "d5d4: 1\n",
    "a7a6: 1\n",
    "c7c6: 1\n",
    "a7a5: 1\n",
    "f5e4: 1\n",
    "d5e4: 1\n",
    "f5g4: 1\n",
    "f4e3: 1\n",
    "b8a6: 1\n",
    "b8c6: 1\n",
    "b8d7: 1\n",
    "g8f6: 1\n",
    "g8h6: 1\n",
    "g8e7: 1\n",
    "c8a6: 1\n",
    "c8e6: 1\n",
    "c8b7: 1\n",
    "c8d7: 1\n",
    "f8c5: 1\n",
    "f8d6: 1\n",
    "f8e7: 1\n",
    "h8h1: 1\n",
    "h8h2: 1\n",
    "h8h3: 1\n",
    "h8h4: 1\n",
    "h8h5: 1\n",
    "h8h6: 1\n",
    "h8h7: 1\n",
    "g6g5: 1\n",
    "g6h5: 1\n",
    "g6a6: 1\n",
    "g6b6: 1\n",
    "g6c6: 1\n",
    "g6d6: 1\n",
    "g6e6: 1\n",
    "g6f6: 1\n",
    "g6h6: 1\n",
    "g6f7: 1\n",
    "g6h7: 1\n",
    "e8d7: 1\n",
    "e8e7: 1\n",
    "e8f7: 1\n",
    "e8d8: 1\"\"\"\n",
    "\n",
    "cmp2 = \"\"\"e8d7: 1\n",
    "e8e7: 1\n",
    "e8f7: 1\n",
    "e8d8: 1\n",
    "d5e4: 1\n",
    "f5g4: 1\n",
    "f5e4: 1\n",
    "f4f3: 1\n",
    "d5d4: 1\n",
    "a7a6: 1\n",
    "c7c6: 1\n",
    "a7a5: 1\n",
    "f4e3: 1\n",
    "b8a6: 1\n",
    "b8c6: 1\n",
    "b8d7: 1\n",
    "g8f6: 1\n",
    "g8h6: 1\n",
    "g8e7: 1\n",
    "c8a6: 1\n",
    "c8e6: 1\n",
    "c8b7: 1\n",
    "c8d7: 1\n",
    "f8c5: 1\n",
    "f8d6: 1\n",
    "f8e7: 1\n",
    "h8h1: 1\n",
    "h8h2: 1\n",
    "h8h3: 1\n",
    "h8h4: 1\n",
    "h8h5: 1\n",
    "h8h6: 1\n",
    "h8h7: 1\n",
    "g6g5: 1\n",
    "g6h5: 1\n",
    "g6a6: 1\n",
    "g6b6: 1\n",
    "g6c6: 1\n",
    "g6d6: 1\n",
    "g6e6: 1\n",
    "g6f6: 1\n",
    "g6h6: 1\n",
    "g6f7: 1\n",
    "g6h7: 1\"\"\""
   ]
  },
  {
   "cell_type": "code",
   "execution_count": 24,
   "metadata": {},
   "outputs": [],
   "source": [
    "dict1 = defaultdict(i, (x.split(' ') for x in cmp1.split('\\n')))\n",
    "dict2 = defaultdict(i, (x.split(' ') for x in cmp2.split('\\n')))"
   ]
  },
  {
   "cell_type": "code",
   "execution_count": 25,
   "metadata": {},
   "outputs": [],
   "source": [
    "for key, value in dict1.items():\n",
    "    if dict2[key] != value:\n",
    "        print(\"Diff: \" + key + ' ' + value + \" | \" + key + ' ' + dict2[key])"
   ]
  },
  {
   "cell_type": "code",
   "execution_count": 26,
   "metadata": {},
   "outputs": [],
   "source": [
    "for key, value in dict2.items():\n",
    "    if dict1[key] != value:\n",
    "        print(\"Diff: \" + key + ' ' + value + \" | \" + key + ' ' + dict1[key])"
   ]
  },
  {
   "cell_type": "code",
   "execution_count": null,
   "metadata": {},
   "outputs": [],
   "source": []
  }
 ],
 "metadata": {
  "kernelspec": {
   "display_name": "Python 3",
   "language": "python",
   "name": "python3"
  },
  "language_info": {
   "codemirror_mode": {
    "name": "ipython",
    "version": 3
   },
   "file_extension": ".py",
   "mimetype": "text/x-python",
   "name": "python",
   "nbconvert_exporter": "python",
   "pygments_lexer": "ipython3",
   "version": "3.8.5"
  }
 },
 "nbformat": 4,
 "nbformat_minor": 4
}
