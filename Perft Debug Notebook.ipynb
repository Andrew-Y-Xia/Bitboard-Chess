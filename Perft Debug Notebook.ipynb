{
 "cells": [
  {
   "cell_type": "code",
   "execution_count": 1,
   "metadata": {},
   "outputs": [],
   "source": [
    "from collections import defaultdict"
   ]
  },
  {
   "cell_type": "code",
   "execution_count": 2,
   "metadata": {},
   "outputs": [],
   "source": [
    "def i():\n",
    "    return '0'"
   ]
  },
  {
   "cell_type": "code",
   "execution_count": 89,
   "metadata": {},
   "outputs": [],
   "source": [
    "cmp1 = \"\"\"c7c6: 32\n",
    "b7b5: 31\n",
    "b8c6: 32\n",
    "b8d7: 33\n",
    "c8d7: 33\n",
    "d8d7: 33\"\"\"\n",
    "\n",
    "cmp2 = \"\"\"c7c6: 32\n",
    "c7c5: 34\n",
    "b8c6: 32\n",
    "b8d7: 33\n",
    "c8d7: 33\n",
    "d8d7: 33\"\"\""
   ]
  },
  {
   "cell_type": "code",
   "execution_count": 90,
   "metadata": {},
   "outputs": [],
   "source": [
    "dict1 = defaultdict(i, (x.split(' ') for x in cmp1.split('\\n')))\n",
    "dict2 = defaultdict(i, (x.split(' ') for x in cmp2.split('\\n')))"
   ]
  },
  {
   "cell_type": "code",
   "execution_count": 91,
   "metadata": {},
   "outputs": [
    {
     "name": "stdout",
     "output_type": "stream",
     "text": [
      "Diff: b7b5: 31 | b7b5: 0\n"
     ]
    }
   ],
   "source": [
    "for key, value in dict1.items():\n",
    "    if dict2[key] != value:\n",
    "        print(\"Diff: \" + key + ' ' + value + \" | \" + key + ' ' + dict2[key])"
   ]
  },
  {
   "cell_type": "code",
   "execution_count": 92,
   "metadata": {},
   "outputs": [
    {
     "name": "stdout",
     "output_type": "stream",
     "text": [
      "Diff: c7c5: 34 | c7c5: 0\n",
      "Diff: b7b5: 0 | b7b5: 31\n"
     ]
    }
   ],
   "source": [
    "for key, value in dict2.items():\n",
    "    if dict1[key] != value:\n",
    "        print(\"Diff: \" + key + ' ' + value + \" | \" + key + ' ' + dict1[key])"
   ]
  },
  {
   "cell_type": "code",
   "execution_count": null,
   "metadata": {},
   "outputs": [],
   "source": []
  }
 ],
 "metadata": {
  "kernelspec": {
   "display_name": "Python 3",
   "language": "python",
   "name": "python3"
  },
  "language_info": {
   "codemirror_mode": {
    "name": "ipython",
    "version": 3
   },
   "file_extension": ".py",
   "mimetype": "text/x-python",
   "name": "python",
   "nbconvert_exporter": "python",
   "pygments_lexer": "ipython3",
   "version": "3.8.5"
  }
 },
 "nbformat": 4,
 "nbformat_minor": 4
}
