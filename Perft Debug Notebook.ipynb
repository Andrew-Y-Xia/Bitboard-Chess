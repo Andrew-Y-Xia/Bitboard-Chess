{
 "cells": [
  {
   "cell_type": "code",
   "execution_count": 1,
   "metadata": {},
   "outputs": [],
   "source": [
    "from collections import defaultdict"
   ]
  },
  {
   "cell_type": "code",
   "execution_count": 2,
   "metadata": {},
   "outputs": [],
   "source": [
    "def i():\n",
    "    return '0'"
   ]
  },
  {
   "cell_type": "code",
   "execution_count": 263,
   "metadata": {},
   "outputs": [],
   "source": [
    "cmp1 = \"\"\"a2a3: 94405\n",
    "b2b3: 81066\n",
    "g2g3: 77468\n",
    "d5d6: 79551\n",
    "a2a4: 90978\n",
    "g2g4: 75677\n",
    "g2h3: 82759\n",
    "d5e6: 97464\n",
    "c3b1: 84773\n",
    "c3d1: 84782\n",
    "c3a4: 91447\n",
    "c3b5: 81498\n",
    "e5d3: 77431\n",
    "e5c4: 77752\n",
    "e5g4: 79912\n",
    "e5c6: 83885\n",
    "e5g6: 83866\n",
    "e5d7: 93913\n",
    "e5f7: 88799\n",
    "d2c1: 83037\n",
    "d2e3: 90274\n",
    "d2f4: 84869\n",
    "d2g5: 87951\n",
    "d2h6: 82323\n",
    "e2d1: 74963\n",
    "e2f1: 88728\n",
    "e2d3: 85119\n",
    "e2c4: 84835\n",
    "e2b5: 79739\n",
    "e2a6: 69334\n",
    "a1b1: 83348\n",
    "a1c1: 83263\n",
    "a1d1: 79695\n",
    "h1f1: 81563\n",
    "h1g1: 84876\n",
    "f3d3: 83727\n",
    "f3e3: 92505\n",
    "f3g3: 94461\n",
    "f3h3: 98524\n",
    "f3f4: 90488\n",
    "f3g4: 92037\n",
    "f3f5: 104992\n",
    "f3h5: 95034\n",
    "f3f6: 77838\n",
    "e1d1: 79989\n",
    "e1f1: 77887\n",
    "e1g1: 86975\n",
    "e1c1: 79803\"\"\"\n",
    "\n",
    "cmp2 = \"\"\"e1c1: 79803\n",
    "e1g1: 86975\n",
    "e1d1: 79989\n",
    "e1f1: 77887\n",
    "g2h3: 82759\n",
    "d5e6: 97464\n",
    "a2a3: 94405\n",
    "b2b3: 81066\n",
    "g2g3: 77468\n",
    "d5d6: 79551\n",
    "a2a4: 90978\n",
    "g2g4: 75677\n",
    "c3b1: 84773\n",
    "c3d1: 84782\n",
    "c3a4: 91447\n",
    "c3b5: 81498\n",
    "e5d3: 77431\n",
    "e5c4: 77752\n",
    "e5g4: 79912\n",
    "e5c6: 83885\n",
    "e5g6: 83866\n",
    "e5d7: 93913\n",
    "e5f7: 88799\n",
    "d2c1: 83037\n",
    "d2e3: 90274\n",
    "d2f4: 84869\n",
    "d2g5: 87951\n",
    "d2h6: 82323\n",
    "e2d1: 74963\n",
    "e2f1: 88728\n",
    "e2d3: 85119\n",
    "e2c4: 84835\n",
    "e2b5: 79739\n",
    "e2a6: 69334\n",
    "a1b1: 83348\n",
    "a1c1: 83263\n",
    "a1d1: 79695\n",
    "h1f1: 81563\n",
    "h1g1: 84876\n",
    "f3d3: 83727\n",
    "f3e3: 92505\n",
    "f3g3: 94461\n",
    "f3h3: 98524\n",
    "f3f4: 90488\n",
    "f3g4: 92037\n",
    "f3f5: 104992\n",
    "f3h5: 95034\n",
    "f3f6: 77838\"\"\""
   ]
  },
  {
   "cell_type": "code",
   "execution_count": 264,
   "metadata": {},
   "outputs": [],
   "source": [
    "dict1 = defaultdict(i, (x.split(' ') for x in cmp1.split('\\n')))\n",
    "dict2 = defaultdict(i, (x.split(' ') for x in cmp2.split('\\n')))"
   ]
  },
  {
   "cell_type": "code",
   "execution_count": 265,
   "metadata": {},
   "outputs": [],
   "source": [
    "for key, value in dict1.items():\n",
    "    if dict2[key] != value:\n",
    "        print(\"Diff: \" + key + ' ' + value + \" | \" + key + ' ' + dict2[key])"
   ]
  },
  {
   "cell_type": "code",
   "execution_count": 266,
   "metadata": {},
   "outputs": [],
   "source": [
    "for key, value in dict2.items():\n",
    "    if dict1[key] != value:\n",
    "        print(\"Diff: \" + key + ' ' + value + \" | \" + key + ' ' + dict1[key])"
   ]
  },
  {
   "cell_type": "code",
   "execution_count": null,
   "metadata": {},
   "outputs": [],
   "source": []
  }
 ],
 "metadata": {
  "kernelspec": {
   "display_name": "Python 3",
   "language": "python",
   "name": "python3"
  },
  "language_info": {
   "codemirror_mode": {
    "name": "ipython",
    "version": 3
   },
   "file_extension": ".py",
   "mimetype": "text/x-python",
   "name": "python",
   "nbconvert_exporter": "python",
   "pygments_lexer": "ipython3",
   "version": "3.8.5"
  }
 },
 "nbformat": 4,
 "nbformat_minor": 4
}
