{
 "cells": [
  {
   "cell_type": "code",
   "execution_count": 3,
   "metadata": {},
   "outputs": [],
   "source": [
    "from collections import defaultdict"
   ]
  },
  {
   "cell_type": "code",
   "execution_count": 4,
   "metadata": {},
   "outputs": [],
   "source": [
    "def i():\n",
    "    return '0'"
   ]
  },
  {
   "cell_type": "code",
   "execution_count": 17,
   "metadata": {},
   "outputs": [],
   "source": [
    "cmp1 = \"\"\"a2a3: 1\n",
    "b2b3: 1\n",
    "c2c3: 1\n",
    "d2d3: 1\n",
    "g2g3: 1\n",
    "e4e5: 1\n",
    "h4h5: 1\n",
    "a2a4: 1\n",
    "b2b4: 1\n",
    "c2c4: 1\n",
    "d2d4: 1\n",
    "g2g4: 1\n",
    "e4f5: 1\n",
    "e4d5: 1\n",
    "b1a3: 1\n",
    "b1c3: 1\n",
    "g1e2: 1\n",
    "f1e2: 1\n",
    "f1d3: 1\n",
    "f1c4: 1\n",
    "f1b5: 1\n",
    "f1a6: 1\n",
    "h3h1: 1\n",
    "h3h2: 1\n",
    "h3g3: 1\n",
    "f3d1: 1\n",
    "f3e2: 1\n",
    "f3a3: 1\n",
    "f3b3: 1\n",
    "f3c3: 1\n",
    "f3d3: 1\n",
    "f3e3: 1\n",
    "f3g3: 1\n",
    "f3f4: 1\n",
    "f3g4: 1\n",
    "f3f5: 1\n",
    "f3h5: 1\n",
    "e1d1: 1\n",
    "e1e2: 1\"\"\"\n",
    "\n",
    "cmp2 = \"\"\"e1d1: 1\n",
    "e1e2: 1\n",
    "e4f5: 1\n",
    "e4d5: 1\n",
    "a2a3: 1\n",
    "b2b3: 1\n",
    "c2c3: 1\n",
    "d2d3: 1\n",
    "g2g3: 1\n",
    "e4e5: 1\n",
    "h4h5: 1\n",
    "a2a4: 1\n",
    "b2b4: 1\n",
    "c2c4: 1\n",
    "d2d4: 1\n",
    "g2g4: 1\n",
    "b1a3: 1\n",
    "b1c3: 1\n",
    "g1e2: 1\n",
    "f1e2: 1\n",
    "f1d3: 1\n",
    "f1c4: 1\n",
    "f1b5: 1\n",
    "f1a6: 1\n",
    "h3h1: 1\n",
    "h3h2: 1\n",
    "h3g3: 1\n",
    "f3d1: 1\n",
    "f3e2: 1\n",
    "f3a3: 1\n",
    "f3b3: 1\n",
    "f3c3: 1\n",
    "f3d3: 1\n",
    "f3e3: 1\n",
    "f3g3: 1\n",
    "f3f4: 1\n",
    "f3g4: 1\n",
    "f3f5: 1\n",
    "f3h5: 1\"\"\""
   ]
  },
  {
   "cell_type": "code",
   "execution_count": 18,
   "metadata": {},
   "outputs": [],
   "source": [
    "dict1 = defaultdict(i, (x.split(' ') for x in cmp1.split('\\n')))\n",
    "dict2 = defaultdict(i, (x.split(' ') for x in cmp2.split('\\n')))"
   ]
  },
  {
   "cell_type": "code",
   "execution_count": 19,
   "metadata": {},
   "outputs": [],
   "source": [
    "for key, value in dict1.items():\n",
    "    if dict2[key] != value:\n",
    "        print(\"Diff: \" + key + ' ' + value + \" | \" + key + ' ' + dict2[key])"
   ]
  },
  {
   "cell_type": "code",
   "execution_count": 20,
   "metadata": {},
   "outputs": [],
   "source": [
    "for key, value in dict2.items():\n",
    "    if dict1[key] != value:\n",
    "        print(\"Diff: \" + key + ' ' + value + \" | \" + key + ' ' + dict1[key])"
   ]
  },
  {
   "cell_type": "code",
   "execution_count": null,
   "metadata": {},
   "outputs": [],
   "source": []
  },
  {
   "cell_type": "code",
   "execution_count": null,
   "metadata": {},
   "outputs": [],
   "source": []
  }
 ],
 "metadata": {
  "kernelspec": {
   "display_name": "Python 3",
   "language": "python",
   "name": "python3"
  },
  "language_info": {
   "codemirror_mode": {
    "name": "ipython",
    "version": 3
   },
   "file_extension": ".py",
   "mimetype": "text/x-python",
   "name": "python",
   "nbconvert_exporter": "python",
   "pygments_lexer": "ipython3",
   "version": "3.8.5"
  }
 },
 "nbformat": 4,
 "nbformat_minor": 4
}
