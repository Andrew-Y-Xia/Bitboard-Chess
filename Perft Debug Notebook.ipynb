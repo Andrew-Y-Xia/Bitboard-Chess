{
 "cells": [
  {
   "cell_type": "code",
   "execution_count": 20,
   "metadata": {},
   "outputs": [],
   "source": [
    "from collections import defaultdict"
   ]
  },
  {
   "cell_type": "code",
   "execution_count": 21,
   "metadata": {},
   "outputs": [],
   "source": [
    "def i():\n",
    "    return '0'"
   ]
  },
  {
   "cell_type": "code",
   "execution_count": 36,
   "metadata": {},
   "outputs": [],
   "source": [
    "cmp1 = \"\"\"b2b3: 1\n",
    "d2d3: 1\n",
    "e2e3: 1\n",
    "a3a4: 1\n",
    "g3g4: 1\n",
    "b2b4: 1\n",
    "d2d4: 1\n",
    "e1f2: 1\n",
    "g1f3: 1\n",
    "g1h3: 1\n",
    "c3b4: 1\n",
    "c3d4: 1\n",
    "c3a5: 1\n",
    "c3e5: 1\n",
    "c5f2: 1\n",
    "c5e3: 1\n",
    "c5b4: 1\n",
    "c5d4: 1\n",
    "c5b6: 1\n",
    "c5d6: 1\n",
    "c5a7: 1\n",
    "c5e7: 1\n",
    "c5f8: 1\n",
    "a1a2: 1\n",
    "h1h2: 1\n",
    "h1h3: 1\n",
    "h1h4: 1\n",
    "h1h5: 1\n",
    "h1h6: 1\n",
    "h1h7: 1\n",
    "h1h8: 1\n",
    "d1c1: 1\n",
    "e1f1: 1\"\"\"\n",
    "\n",
    "cmp2 = \"\"\"e1f1: 1\n",
    "e1f2: 1\n",
    "b2b3: 1\n",
    "d2d3: 1\n",
    "e2e3: 1\n",
    "a3a4: 1\n",
    "g3g4: 1\n",
    "b2b4: 1\n",
    "d2d4: 1\n",
    "g1f3: 1\n",
    "g1h3: 1\n",
    "c3b4: 1\n",
    "c3d4: 1\n",
    "c3a5: 1\n",
    "c3e5: 1\n",
    "c5f2: 1\n",
    "c5e3: 1\n",
    "c5b4: 1\n",
    "c5d4: 1\n",
    "c5b6: 1\n",
    "c5d6: 1\n",
    "c5a7: 1\n",
    "c5e7: 1\n",
    "c5f8: 1\n",
    "a1a2: 1\n",
    "h1h2: 1\n",
    "h1h3: 1\n",
    "h1h4: 1\n",
    "h1h5: 1\n",
    "h1h6: 1\n",
    "h1h7: 1\n",
    "h1h8: 1\n",
    "d1c1: 1\"\"\""
   ]
  },
  {
   "cell_type": "code",
   "execution_count": 37,
   "metadata": {},
   "outputs": [],
   "source": [
    "dict1 = defaultdict(i, (x.split(' ') for x in cmp1.split('\\n')))\n",
    "dict2 = defaultdict(i, (x.split(' ') for x in cmp2.split('\\n')))"
   ]
  },
  {
   "cell_type": "code",
   "execution_count": 38,
   "metadata": {},
   "outputs": [],
   "source": [
    "for key, value in dict1.items():\n",
    "    if dict2[key] != value:\n",
    "        print(\"Diff: \" + key + ' ' + value + \" | \" + key + ' ' + dict2[key])"
   ]
  },
  {
   "cell_type": "code",
   "execution_count": 39,
   "metadata": {},
   "outputs": [],
   "source": [
    "for key, value in dict2.items():\n",
    "    if dict1[key] != value:\n",
    "        print(\"Diff: \" + key + ' ' + value + \" | \" + key + ' ' + dict1[key])"
   ]
  },
  {
   "cell_type": "code",
   "execution_count": null,
   "metadata": {},
   "outputs": [],
   "source": []
  },
  {
   "cell_type": "code",
   "execution_count": null,
   "metadata": {},
   "outputs": [],
   "source": []
  }
 ],
 "metadata": {
  "kernelspec": {
   "display_name": "Python 3",
   "language": "python",
   "name": "python3"
  },
  "language_info": {
   "codemirror_mode": {
    "name": "ipython",
    "version": 3
   },
   "file_extension": ".py",
   "mimetype": "text/x-python",
   "name": "python",
   "nbconvert_exporter": "python",
   "pygments_lexer": "ipython3",
   "version": "3.8.5"
  }
 },
 "nbformat": 4,
 "nbformat_minor": 4
}
